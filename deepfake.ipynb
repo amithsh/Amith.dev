{
  "nbformat": 4,
  "nbformat_minor": 0,
  "metadata": {
    "colab": {
      "provenance": [],
      "authorship_tag": "ABX9TyM0PuTC6nA9qOuF2pr7TX1H",
      "include_colab_link": true
    },
    "kernelspec": {
      "name": "python3",
      "display_name": "Python 3"
    },
    "language_info": {
      "name": "python"
    }
  },
  "cells": [
    {
      "cell_type": "markdown",
      "metadata": {
        "id": "view-in-github",
        "colab_type": "text"
      },
      "source": [
        "<a href=\"https://colab.research.google.com/github/amithsh/Amith.dev/blob/main/deepfake.ipynb\" target=\"_parent\"><img src=\"https://colab.research.google.com/assets/colab-badge.svg\" alt=\"Open In Colab\"/></a>"
      ]
    },
    {
      "cell_type": "code",
      "execution_count": 1,
      "metadata": {
        "colab": {
          "base_uri": "https://localhost:8080/"
        },
        "id": "GT6hj_Z_nNvU",
        "outputId": "4f088433-6c76-4928-9a1b-76346c6c3d91"
      },
      "outputs": [
        {
          "output_type": "stream",
          "name": "stdout",
          "text": [
            "\u001b[1;32mDone!\n"
          ]
        }
      ],
      "source": [
        "from IPython.display import clear_output\n",
        "!git clone https://github.com/s0md3v/roop.git\n",
        "%cd roop\n",
        "!pip install -r requirements.txt\n",
        "\n",
        "clear_output()\n",
        "print('\u001b[1;32mDone!')"
      ]
    },
    {
      "cell_type": "code",
      "source": [],
      "metadata": {
        "id": "QRW10n6YnRau"
      },
      "execution_count": null,
      "outputs": []
    },
    {
      "cell_type": "code",
      "execution_count": 2,
      "metadata": {
        "id": "UQH2exUYGTbK",
        "colab": {
          "base_uri": "https://localhost:8080/"
        },
        "outputId": "80de6439-4d68-4e56-b2f4-bb474434aa60"
      },
      "outputs": [
        {
          "output_type": "stream",
          "name": "stdout",
          "text": [
            "--2024-11-01 07:35:38--  https://huggingface.co/ezioruan/inswapper_128.onnx/resolve/main/inswapper_128.onnx\n",
            "Resolving huggingface.co (huggingface.co)... 18.172.134.124, 18.172.134.24, 18.172.134.88, ...\n",
            "Connecting to huggingface.co (huggingface.co)|18.172.134.124|:443... connected.\n",
            "HTTP request sent, awaiting response... 302 Found\n",
            "Location: https://cdn-lfs.hf.co/repos/40/3c/403ce23d3f5c02a28fcbe749205d5c8245b2812e6c948bae7abac24495779bc7/e4a3f08c753cb72d04e10aa0f7dbe3deebbf39567d4ead6dce08e98aa49e16af?response-content-disposition=inline%3B+filename*%3DUTF-8%27%27inswapper_128.onnx%3B+filename%3D%22inswapper_128.onnx%22%3B&Expires=1730705738&Policy=eyJTdGF0ZW1lbnQiOlt7IkNvbmRpdGlvbiI6eyJEYXRlTGVzc1RoYW4iOnsiQVdTOkVwb2NoVGltZSI6MTczMDcwNTczOH19LCJSZXNvdXJjZSI6Imh0dHBzOi8vY2RuLWxmcy5oZi5jby9yZXBvcy80MC8zYy80MDNjZTIzZDNmNWMwMmEyOGZjYmU3NDkyMDVkNWM4MjQ1YjI4MTJlNmM5NDhiYWU3YWJhYzI0NDk1Nzc5YmM3L2U0YTNmMDhjNzUzY2I3MmQwNGUxMGFhMGY3ZGJlM2RlZWJiZjM5NTY3ZDRlYWQ2ZGNlMDhlOThhYTQ5ZTE2YWY%7EcmVzcG9uc2UtY29udGVudC1kaXNwb3NpdGlvbj0qIn1dfQ__&Signature=IlLXLdjbs2N3AiFpMWLlXTMt0rmCvhDGJsUSRFMljRLyEyaqsrVsAAPeHxPzoFl3Id4Vtu1e0rN4hSFW8JNBYCrEqRNgtOlRgHx4r0zSdzn5j3%7E5JkY7xI4Dqf7u4XkpCWYkRHTiCyNQ%7EgJh9kaNsghjD3jGRjJgTXRd9McbJp3t5lSibbm%7Ed7jxernNHprlxGGM7t-m5Wuc829X1BBSMAnSsO7Wz2S%7E9t7Yve9EXu7Yz7iML5Neo1Z56s9Fo2TXoudIK0%7E1fyBBI%7EPTSULbePS5tk9%7E1X0GJoiPgAxc31zA3Wcl0IArU9QPJmMlILSELfnclATPNN7a8dyyM-LoSA__&Key-Pair-Id=K3RPWS32NSSJCE [following]\n",
            "--2024-11-01 07:35:38--  https://cdn-lfs.hf.co/repos/40/3c/403ce23d3f5c02a28fcbe749205d5c8245b2812e6c948bae7abac24495779bc7/e4a3f08c753cb72d04e10aa0f7dbe3deebbf39567d4ead6dce08e98aa49e16af?response-content-disposition=inline%3B+filename*%3DUTF-8%27%27inswapper_128.onnx%3B+filename%3D%22inswapper_128.onnx%22%3B&Expires=1730705738&Policy=eyJTdGF0ZW1lbnQiOlt7IkNvbmRpdGlvbiI6eyJEYXRlTGVzc1RoYW4iOnsiQVdTOkVwb2NoVGltZSI6MTczMDcwNTczOH19LCJSZXNvdXJjZSI6Imh0dHBzOi8vY2RuLWxmcy5oZi5jby9yZXBvcy80MC8zYy80MDNjZTIzZDNmNWMwMmEyOGZjYmU3NDkyMDVkNWM4MjQ1YjI4MTJlNmM5NDhiYWU3YWJhYzI0NDk1Nzc5YmM3L2U0YTNmMDhjNzUzY2I3MmQwNGUxMGFhMGY3ZGJlM2RlZWJiZjM5NTY3ZDRlYWQ2ZGNlMDhlOThhYTQ5ZTE2YWY%7EcmVzcG9uc2UtY29udGVudC1kaXNwb3NpdGlvbj0qIn1dfQ__&Signature=IlLXLdjbs2N3AiFpMWLlXTMt0rmCvhDGJsUSRFMljRLyEyaqsrVsAAPeHxPzoFl3Id4Vtu1e0rN4hSFW8JNBYCrEqRNgtOlRgHx4r0zSdzn5j3%7E5JkY7xI4Dqf7u4XkpCWYkRHTiCyNQ%7EgJh9kaNsghjD3jGRjJgTXRd9McbJp3t5lSibbm%7Ed7jxernNHprlxGGM7t-m5Wuc829X1BBSMAnSsO7Wz2S%7E9t7Yve9EXu7Yz7iML5Neo1Z56s9Fo2TXoudIK0%7E1fyBBI%7EPTSULbePS5tk9%7E1X0GJoiPgAxc31zA3Wcl0IArU9QPJmMlILSELfnclATPNN7a8dyyM-LoSA__&Key-Pair-Id=K3RPWS32NSSJCE\n",
            "Resolving cdn-lfs.hf.co (cdn-lfs.hf.co)... 3.167.152.12, 3.167.152.119, 3.167.152.37, ...\n",
            "Connecting to cdn-lfs.hf.co (cdn-lfs.hf.co)|3.167.152.12|:443... connected.\n",
            "HTTP request sent, awaiting response... 200 OK\n",
            "Length: 554253681 (529M) [binary/octet-stream]\n",
            "Saving to: ‘inswapper_128.onnx’\n",
            "\n",
            "inswapper_128.onnx  100%[===================>] 528.58M  99.1MB/s    in 5.6s    \n",
            "\n",
            "2024-11-01 07:35:44 (93.6 MB/s) - ‘inswapper_128.onnx’ saved [554253681/554253681]\n",
            "\n",
            "--2024-11-01 07:35:44--  https://huggingface.co/MarioG/ff_components/resolve/main/onnxruntime_gpu-1.16.3-cp310-cp310-linux_x86_64.whl?download=true\n",
            "Resolving huggingface.co (huggingface.co)... 18.172.134.124, 18.172.134.24, 18.172.134.88, ...\n",
            "Connecting to huggingface.co (huggingface.co)|18.172.134.124|:443... connected.\n",
            "HTTP request sent, awaiting response... 307 Temporary Redirect\n",
            "Location: /rocketpal/ff_components/resolve/main/onnxruntime_gpu-1.16.3-cp310-cp310-linux_x86_64.whl?download=true [following]\n",
            "--2024-11-01 07:35:45--  https://huggingface.co/rocketpal/ff_components/resolve/main/onnxruntime_gpu-1.16.3-cp310-cp310-linux_x86_64.whl?download=true\n",
            "Reusing existing connection to huggingface.co:443.\n",
            "HTTP request sent, awaiting response... 302 Found\n",
            "Location: https://cdn-lfs-us-1.hf.co/repos/e7/64/e764e47c02e62826937ccc2d6ae67f9051b233ab0ec3f8fecaf75681acd10c06/c8401c71849d326380da0917bbf214797ae88378673264cd176f2042ed159761?response-content-disposition=attachment%3B+filename*%3DUTF-8%27%27onnxruntime_gpu-1.16.3-cp310-cp310-linux_x86_64.whl%3B+filename%3D%22onnxruntime_gpu-1.16.3-cp310-cp310-linux_x86_64.whl%22%3B&Expires=1730705745&Policy=eyJTdGF0ZW1lbnQiOlt7IkNvbmRpdGlvbiI6eyJEYXRlTGVzc1RoYW4iOnsiQVdTOkVwb2NoVGltZSI6MTczMDcwNTc0NX19LCJSZXNvdXJjZSI6Imh0dHBzOi8vY2RuLWxmcy11cy0xLmhmLmNvL3JlcG9zL2U3LzY0L2U3NjRlNDdjMDJlNjI4MjY5MzdjY2MyZDZhZTY3ZjkwNTFiMjMzYWIwZWMzZjhmZWNhZjc1NjgxYWNkMTBjMDYvYzg0MDFjNzE4NDlkMzI2MzgwZGEwOTE3YmJmMjE0Nzk3YWU4ODM3ODY3MzI2NGNkMTc2ZjIwNDJlZDE1OTc2MT9yZXNwb25zZS1jb250ZW50LWRpc3Bvc2l0aW9uPSoifV19&Signature=tkrVc5Ss2ORZ8RyqhrbXcO4CcfIpswgmZ7LtWxi0gcAcKoM4LUahhb%7ERU5gtUZsmog8nsMvIY4h2Mr3ZyXPByX6qOQRJGEslnQ8Brzvg2kbXbczp0AmLXo-hbzDWwmVOHBEVvW8N5GvJjBL29CKAt3QCmOcXgkSt-GfBQAvDXb563Zi44zYZGWzY1-TWmiys4R3nZecrdv%7EiOZuhX42iNG%7EmKwtoEr5KMjMqA8l3fbU63ORnAhQFSnh0Ei6ScWErP-T0ylB0Y%7EiSJ3Z%7EPGXJLbhWgy58bO5E9ARbR%7ExK%7EyV2fyvoFxuZBTzMLQcAfe8PlvdVaERnSY26vB2kYlx%7E-w__&Key-Pair-Id=K24J24Z295AEI9 [following]\n",
            "--2024-11-01 07:35:45--  https://cdn-lfs-us-1.hf.co/repos/e7/64/e764e47c02e62826937ccc2d6ae67f9051b233ab0ec3f8fecaf75681acd10c06/c8401c71849d326380da0917bbf214797ae88378673264cd176f2042ed159761?response-content-disposition=attachment%3B+filename*%3DUTF-8%27%27onnxruntime_gpu-1.16.3-cp310-cp310-linux_x86_64.whl%3B+filename%3D%22onnxruntime_gpu-1.16.3-cp310-cp310-linux_x86_64.whl%22%3B&Expires=1730705745&Policy=eyJTdGF0ZW1lbnQiOlt7IkNvbmRpdGlvbiI6eyJEYXRlTGVzc1RoYW4iOnsiQVdTOkVwb2NoVGltZSI6MTczMDcwNTc0NX19LCJSZXNvdXJjZSI6Imh0dHBzOi8vY2RuLWxmcy11cy0xLmhmLmNvL3JlcG9zL2U3LzY0L2U3NjRlNDdjMDJlNjI4MjY5MzdjY2MyZDZhZTY3ZjkwNTFiMjMzYWIwZWMzZjhmZWNhZjc1NjgxYWNkMTBjMDYvYzg0MDFjNzE4NDlkMzI2MzgwZGEwOTE3YmJmMjE0Nzk3YWU4ODM3ODY3MzI2NGNkMTc2ZjIwNDJlZDE1OTc2MT9yZXNwb25zZS1jb250ZW50LWRpc3Bvc2l0aW9uPSoifV19&Signature=tkrVc5Ss2ORZ8RyqhrbXcO4CcfIpswgmZ7LtWxi0gcAcKoM4LUahhb%7ERU5gtUZsmog8nsMvIY4h2Mr3ZyXPByX6qOQRJGEslnQ8Brzvg2kbXbczp0AmLXo-hbzDWwmVOHBEVvW8N5GvJjBL29CKAt3QCmOcXgkSt-GfBQAvDXb563Zi44zYZGWzY1-TWmiys4R3nZecrdv%7EiOZuhX42iNG%7EmKwtoEr5KMjMqA8l3fbU63ORnAhQFSnh0Ei6ScWErP-T0ylB0Y%7EiSJ3Z%7EPGXJLbhWgy58bO5E9ARbR%7ExK%7EyV2fyvoFxuZBTzMLQcAfe8PlvdVaERnSY26vB2kYlx%7E-w__&Key-Pair-Id=K24J24Z295AEI9\n",
            "Resolving cdn-lfs-us-1.hf.co (cdn-lfs-us-1.hf.co)... 18.160.225.72, 18.160.225.13, 18.160.225.98, ...\n",
            "Connecting to cdn-lfs-us-1.hf.co (cdn-lfs-us-1.hf.co)|18.160.225.72|:443... connected.\n",
            "HTTP request sent, awaiting response... 200 OK\n",
            "Length: 38654881 (37M) [binary/octet-stream]\n",
            "Saving to: ‘/content/onnxruntime_gpu-1.16.3-cp310-cp310-linux_x86_64.whl’\n",
            "\n",
            "/content/onnxruntim 100%[===================>]  36.86M  39.9MB/s    in 0.9s    \n",
            "\n",
            "2024-11-01 07:35:46 (39.9 MB/s) - ‘/content/onnxruntime_gpu-1.16.3-cp310-cp310-linux_x86_64.whl’ saved [38654881/38654881]\n",
            "\n",
            "\u001b[33mWARNING: Skipping onnxruntime as it is not installed.\u001b[0m\u001b[33m\n",
            "\u001b[0mProcessing /content/onnxruntime_gpu-1.16.3-cp310-cp310-linux_x86_64.whl\n",
            "Requirement already satisfied: coloredlogs in /usr/local/lib/python3.10/dist-packages (from onnxruntime-gpu==1.16.3) (15.0.1)\n",
            "Requirement already satisfied: flatbuffers in /usr/local/lib/python3.10/dist-packages (from onnxruntime-gpu==1.16.3) (24.3.25)\n",
            "Requirement already satisfied: numpy>=1.23.5 in /usr/local/lib/python3.10/dist-packages (from onnxruntime-gpu==1.16.3) (1.24.3)\n",
            "Requirement already satisfied: packaging in /usr/local/lib/python3.10/dist-packages (from onnxruntime-gpu==1.16.3) (24.1)\n",
            "Requirement already satisfied: protobuf in /usr/local/lib/python3.10/dist-packages (from onnxruntime-gpu==1.16.3) (4.23.4)\n",
            "Requirement already satisfied: sympy in /usr/local/lib/python3.10/dist-packages (from onnxruntime-gpu==1.16.3) (1.13.1)\n",
            "Requirement already satisfied: humanfriendly>=9.1 in /usr/local/lib/python3.10/dist-packages (from coloredlogs->onnxruntime-gpu==1.16.3) (10.0)\n",
            "Requirement already satisfied: mpmath<1.4,>=1.1.0 in /usr/local/lib/python3.10/dist-packages (from sympy->onnxruntime-gpu==1.16.3) (1.3.0)\n",
            "Installing collected packages: onnxruntime-gpu\n",
            "  Attempting uninstall: onnxruntime-gpu\n",
            "    Found existing installation: onnxruntime-gpu 1.15.1\n",
            "    Uninstalling onnxruntime-gpu-1.15.1:\n",
            "      Successfully uninstalled onnxruntime-gpu-1.15.1\n",
            "Successfully installed onnxruntime-gpu-1.16.3\n",
            "\u001b[1;32mDone!\n"
          ]
        }
      ],
      "source": [
        "!wget https://huggingface.co/ezioruan/inswapper_128.onnx/resolve/main/inswapper_128.onnx -O inswapper_128.onnx\n",
        "!mkdir models\n",
        "!mv inswapper_128.onnx ./models\n",
        "!wget -O /content/onnxruntime_gpu-1.16.3-cp310-cp310-linux_x86_64.whl \"https://huggingface.co/MarioG/ff_components/resolve/main/onnxruntime_gpu-1.16.3-cp310-cp310-linux_x86_64.whl?download=true\"\n",
        "!pip uninstall -y -q onnxruntime\n",
        "!pip install /content/onnxruntime_gpu-1.16.3-cp310-cp310-linux_x86_64.whl\n",
        "print('\u001b[1;32mDone!')"
      ]
    },
    {
      "cell_type": "code",
      "source": [],
      "metadata": {
        "id": "Rhkn9LYhq1DZ"
      },
      "execution_count": null,
      "outputs": []
    },
    {
      "cell_type": "code",
      "source": [],
      "metadata": {
        "id": "u0bHEC_xq4ol"
      },
      "execution_count": null,
      "outputs": []
    },
    {
      "cell_type": "code",
      "execution_count": null,
      "metadata": {
        "id": "lDYdfL3L71i1"
      },
      "outputs": [],
      "source": [
        "!python run.py --target /content/vid.mov --output-video-quality 0 --source /content/clown.png -o /content/swapped.mp4 --execution-provider cuda --frame-processor face_swapper face_enhancer --output-video-encoder libx264 --temp-frame-quality 0 --skip-audio --keep-fps --many-faces"
      ]
    }
  ]
}